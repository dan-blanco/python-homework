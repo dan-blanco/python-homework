{
 "cells": [
  {
   "cell_type": "code",
   "execution_count": 1,
   "metadata": {},
   "outputs": [],
   "source": [
    "# init imports\n",
    "from pathlib import Path\n",
    "import csv"
   ]
  },
  {
   "cell_type": "code",
   "execution_count": 35,
   "metadata": {},
   "outputs": [
    {
     "name": "stdout",
     "output_type": "stream",
     "text": [
      "38382578.0\n"
     ]
    }
   ],
   "source": [
    "\"\"\"\n",
    "    Code below opens the csv file in a csv reader object\n",
    "\"\"\"\n",
    "\n",
    "with open(\"PyBank/Resources/budget_data.csv\") as file:\n",
    "    csvreader = csv.reader(file)\n",
    "    header = next(csvreader)\n",
    "    i=0\n",
    "    total = 0\n",
    "    for row in csvreader:\n",
    "        i+=1\n",
    "        total += float(row[1])\n",
    "    print(total)"
   ]
  },
  {
   "cell_type": "code",
   "execution_count": 37,
   "metadata": {},
   "outputs": [
    {
     "name": "stdout",
     "output_type": "stream",
     "text": [
      "\n",
      "Financial Analysis\n",
      "----------------------------\n",
      " Total Months: 86\n",
      " Total: $38382578.0\n",
      "\n"
     ]
    }
   ],
   "source": [
    "# Generate the ouput string\n",
    "\n",
    "output = f\"\"\"\n",
    "Financial Analysis\n",
    "----------------------------\n",
    " Total Months: {i}\n",
    " Total: ${total}\n",
    "\"\"\"\n",
    "\n",
    "print(output)"
   ]
  },
  {
   "cell_type": "code",
   "execution_count": 38,
   "metadata": {},
   "outputs": [],
   "source": [
    "# Saving output to output.txt\n",
    "with open(\"output.txt\", \"w\") as file:\n",
    "    file.write(output)\n",
    "    "
   ]
  }
 ],
 "metadata": {
  "kernelspec": {
   "display_name": "Python 3.7.7 ('dev3')",
   "language": "python",
   "name": "python3"
  },
  "language_info": {
   "codemirror_mode": {
    "name": "ipython",
    "version": 3
   },
   "file_extension": ".py",
   "mimetype": "text/x-python",
   "name": "python",
   "nbconvert_exporter": "python",
   "pygments_lexer": "ipython3",
   "version": "3.7.7"
  },
  "orig_nbformat": 4,
  "vscode": {
   "interpreter": {
    "hash": "efce775488143baae4b13c57a0317062a69e5409e04d775491ed3a8d8130c636"
   }
  }
 },
 "nbformat": 4,
 "nbformat_minor": 2
}
